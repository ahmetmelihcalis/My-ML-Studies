{
 "cells": [
  {
   "cell_type": "markdown",
   "id": "ca0ea14c-c4f9-46c4-886c-706a4bafd2e6",
   "metadata": {},
   "source": [
    "# ML NOTES"
   ]
  },
  {
   "cell_type": "code",
   "execution_count": 1,
   "id": "d33ef60e-a776-4058-9f36-c80b1a8160a6",
   "metadata": {},
   "outputs": [],
   "source": [
    "#Regresyon"
   ]
  },
  {
   "cell_type": "markdown",
   "id": "a24b70e8-bc21-4f4f-bb67-b3e8bb19bcf7",
   "metadata": {},
   "source": [
    "Regresyon, bir veya daha fazla bağımsız değişken kullanarak bir bağımlı değişkeni tahmin etmeye veya aralarındaki ilişkiyi modellemeye yarayan istatistiksel bir yöntemdir."
   ]
  },
  {
   "cell_type": "code",
   "execution_count": 2,
   "id": "3c55630b-ba92-4afe-a643-ea281ee291ce",
   "metadata": {},
   "outputs": [],
   "source": [
    "#Doğrusal (Lineer) Regresyon"
   ]
  },
  {
   "cell_type": "markdown",
   "id": "2010d0db-9e1d-422e-bcb1-c755bb652d98",
   "metadata": {},
   "source": [
    "Doğrusal regresyon, bir bağımlı değişken ile bir veya daha fazla bağımsız değişken arasındaki doğrusal ilişkiyi modelleyen istatistiksel bir yöntemdir."
   ]
  },
  {
   "cell_type": "code",
   "execution_count": 3,
   "id": "52953497-5177-41d4-952e-b5c2e921ad48",
   "metadata": {},
   "outputs": [],
   "source": [
    "#Pozitif ve Negatif Korelasyon"
   ]
  },
  {
   "cell_type": "markdown",
   "id": "258ac5e5-5e25-423c-9e1a-8c552768d608",
   "metadata": {},
   "source": [
    "**Pozitif korelasyon**, iki değişkenin birlikte artması veya birlikte azalması durumudur; biri arttıkça diğeri de artar.\n",
    "**Negatif korelasyon** ise, bir değişken artarken diğerinin azalması durumudur; biri arttıkça diğeri azalır.\n"
   ]
  },
  {
   "cell_type": "code",
   "execution_count": 4,
   "id": "8e3097b6-a208-4768-b95d-c5c9f2d6635e",
   "metadata": {},
   "outputs": [],
   "source": [
    "#Lojistik Regresyon"
   ]
  },
  {
   "cell_type": "markdown",
   "id": "c090a6c5-d37f-4694-8682-36ae94c28514",
   "metadata": {},
   "source": [
    "Lojistik regresyon, bir olayın olasılığını (örneğin evet/hayır, 1/0 gibi) tahmin etmek için kullanılan ve çıktısı sürekli değil, olasılık (0 ile 1 arasında) olan bir sınıflandırma yöntemidir. Başka bir değişle kategorik bir bağımlı değişkeni bir veya daha fazla bağımsız değişkene dayalı olarak modelleyen bir teknik.\t\t"
   ]
  },
  {
   "cell_type": "code",
   "execution_count": 5,
   "id": "e9e86e3d-6c41-49b9-b93e-082b836b3456",
   "metadata": {},
   "outputs": [],
   "source": [
    "#Ordinary Least Squares"
   ]
  },
  {
   "cell_type": "markdown",
   "id": "56705898-43a0-4007-9c34-e0dc6d69aa1e",
   "metadata": {},
   "source": [
    "Ordinary Least Squares (OLS), Türkçesiyle \"En Küçük Kareler Yöntemi\", doğrusal regresyon modellerinde en yaygın kullanılan istatistiksel tahmin yöntemidir.\n",
    "\n",
    "Kısa tanım:\n",
    "OLS, gerçek değerlerle modelin tahmin ettiği değerler arasındaki farkların karelerini en aza indirmeyi amaçlayan bir regresyon yöntemidir.\n",
    "\n",
    "Neden karesi alınır?\n",
    "Pozitif-negatif farkların birbirini götürmesini engellemek için,\n",
    "\n",
    "Büyük hatalara daha fazla ceza vermek için."
   ]
  },
  {
   "cell_type": "code",
   "execution_count": 6,
   "id": "03b9d9f6-d0e4-4342-a724-bfca938f59e3",
   "metadata": {},
   "outputs": [],
   "source": [
    "#Korelasyon Katsayısı"
   ]
  },
  {
   "cell_type": "markdown",
   "id": "bd328500-c426-40f9-ac47-5dbfe236eb2c",
   "metadata": {},
   "source": [
    "Korelasyon katsayısı, iki değişken arasındaki ilişkinin yönünü ve gücünü gösteren, -1 ile +1 arasında değer alan istatistiksel bir ölçüdür."
   ]
  },
  {
   "cell_type": "code",
   "execution_count": 7,
   "id": "2f21abda-1092-41da-881d-9723a35cc570",
   "metadata": {},
   "outputs": [],
   "source": [
    "#Basit doğrusal regresyon varsayımları"
   ]
  },
  {
   "cell_type": "markdown",
   "id": "64e1def6-6f54-4265-84da-08803570e21a",
   "metadata": {},
   "source": [
    "Özetlemek gerekirse, basit doğrusal regresyonun dört varsayımı vardır:\n",
    "\n",
    "Doğrusallık: Her bir öngörücü değişken (Xi) sonuç değişkeniyle (Y) doğrusal olarak ilişkilidir.\n",
    "\n",
    "Normallik: Hatalar normal dağılmıştır.*\n",
    "\n",
    "Bağımsız Gözlemler: Veri kümesindeki her bir gözlem bağımsızdır.\n",
    "\n",
    "Homoscedasticity: Hataların varyansı model genelinde sabit veya benzerdir.*"
   ]
  },
  {
   "cell_type": "code",
   "execution_count": 8,
   "id": "a08f1871-fcdd-4ad3-8361-efdcb4c1d923",
   "metadata": {},
   "outputs": [],
   "source": [
    "#R²"
   ]
  },
  {
   "cell_type": "markdown",
   "id": "18e484f1-3287-4a93-b3aa-a735ebb801cb",
   "metadata": {},
   "source": [
    "R² (R-kare), modelin verideki toplam değişkenliğin ne kadarını açıkladığını gösteren doğruluk ölçüsüdür."
   ]
  },
  {
   "cell_type": "code",
   "execution_count": 9,
   "id": "ca9e6684-d6bb-4d3e-996f-de3d1723fb2e",
   "metadata": {},
   "outputs": [],
   "source": [
    "#MSE"
   ]
  },
  {
   "cell_type": "markdown",
   "id": "35cdf607-d381-497b-aac2-df08952f8e0a",
   "metadata": {},
   "source": [
    "MSE (Mean Squared Error), tahmin hatalarının karelerinin ortalamasını alarak hataların büyüklüğünü ölçer."
   ]
  },
  {
   "cell_type": "code",
   "execution_count": 10,
   "id": "dc607763-9228-4df8-b6cf-f8319a1df073",
   "metadata": {},
   "outputs": [],
   "source": [
    "#MAE"
   ]
  },
  {
   "cell_type": "markdown",
   "id": "c391b040-7fa0-4c6e-baca-ca50895b3b53",
   "metadata": {},
   "source": [
    "MAE (Mean Absolute Error), tahmin hatalarının mutlak değerlerinin ortalamasını alarak ortalama sapmayı gösterir."
   ]
  },
  {
   "cell_type": "code",
   "execution_count": 11,
   "id": "01097a69-927d-4e0e-ae0d-5fde62a3dbd2",
   "metadata": {},
   "outputs": [],
   "source": [
    "#Sıfır hipotezi (H₀)"
   ]
  },
  {
   "cell_type": "markdown",
   "id": "bd0e0d71-1b67-40e9-838d-36b0acfb5d16",
   "metadata": {},
   "source": [
    "Sıfır hipotezi (H₀), istatistiksel testlerde başlangıçta doğru kabul edilen ve iki grup veya değişken arasında fark, ilişki ya da etki olmadığını savunan varsayımdır."
   ]
  },
  {
   "cell_type": "code",
   "execution_count": 12,
   "id": "cd743da7-b8a7-47c5-a215-e6494ef11ce7",
   "metadata": {},
   "outputs": [],
   "source": [
    "#P-Değeri"
   ]
  },
  {
   "cell_type": "markdown",
   "id": "b7039644-46cf-4ac4-8edc-b8634c15030b",
   "metadata": {},
   "source": [
    "P-değeri, gözlemlenen verilerin, sıfır hipotez doğru kabul edildiğinde, bu kadar uç veya daha uç sonuçlar üretme olasılığını gösteren değerdir."
   ]
  },
  {
   "cell_type": "code",
   "execution_count": 13,
   "id": "f12f76ef-4bb2-4632-9677-58d2f70303ff",
   "metadata": {},
   "outputs": [],
   "source": [
    "#Çoklu Doğrusal Regresyon"
   ]
  },
  {
   "cell_type": "markdown",
   "id": "383f4443-9c1c-46e0-832b-1394b76aff86",
   "metadata": {},
   "source": [
    "Çoklu doğrusal regresyon, bir bağımlı değişkeni birden fazla bağımsız değişken kullanarak doğrusal bir modelle tahmin etmeye yarayan istatistiksel bir yöntemdir."
   ]
  },
  {
   "cell_type": "code",
   "execution_count": 14,
   "id": "efc1cce2-1171-4142-9e03-08603f6c75ce",
   "metadata": {},
   "outputs": [],
   "source": [
    "#Label Encoding (Etiket Kodlama)"
   ]
  },
  {
   "cell_type": "markdown",
   "id": "753ac074-832c-41a3-9298-5fc0c735df47",
   "metadata": {},
   "source": [
    "Label Encoding, kategorik bir değişkendeki her benzersiz değere sıralı bir tam sayı atar. Yani, her bir kategoriye karşılık gelen bir sayı etiketi verir."
   ]
  },
  {
   "cell_type": "code",
   "execution_count": 15,
   "id": "3e36981d-3fef-489c-ba42-1d345978ead0",
   "metadata": {},
   "outputs": [],
   "source": [
    "#One-Hot Encoding"
   ]
  },
  {
   "cell_type": "markdown",
   "id": "c46b14c1-5c5d-4589-a0d7-092ad1499968",
   "metadata": {},
   "source": [
    "One-Hot Encoding, kategorik bir değişkendeki her benzersiz kategori için yeni, ikili (binary) bir sütun oluşturur. Orijinal kategoriye ait olan gözlem için ilgili yeni sütunda 1, diğer yeni sütunlarda ise 0 değeri bulunur."
   ]
  },
  {
   "cell_type": "code",
   "execution_count": 16,
   "id": "871fdfbe-3e57-442b-aea0-b2fd8ffce8a1",
   "metadata": {},
   "outputs": [],
   "source": [
    "#Q-Q Grafiği (Quantile-Quantile Plot)"
   ]
  },
  {
   "cell_type": "markdown",
   "id": "ae66df9f-b036-469e-bc63-6be77c262fc0",
   "metadata": {},
   "source": [
    "Q-Q grafiği (Quantile-Quantile Plot), bir veri setinin dağılımını teorik bir dağılımla (genellikle normal dağılım) karşılaştırarak verinin o dağılıma ne kadar uyduğunu görsel olarak gösteren bir grafiktir."
   ]
  },
  {
   "cell_type": "code",
   "execution_count": 17,
   "id": "1cd3de24-7c1a-4d37-8418-39303eebce06",
   "metadata": {},
   "outputs": [],
   "source": [
    "#Overfitting ve Underfitting"
   ]
  },
  {
   "cell_type": "markdown",
   "id": "081ca394-9291-4cd7-b7a8-dee626bd21ea",
   "metadata": {},
   "source": [
    "🔹 Overfitting, modelin eğitildiği veriye aşırı uyum sağlayarak yeni verilerde kötü tahmin yapmasıdır;\n",
    "\n",
    "🔹 Underfitting ise modelin hem eğitim verisini hem de yeni verileri yeterince öğrenememesi durumudur."
   ]
  },
  {
   "cell_type": "code",
   "execution_count": 18,
   "id": "f827d171-ec0b-4d7f-9fd8-5a97bc1d4ccf",
   "metadata": {},
   "outputs": [],
   "source": [
    "#Ki-kare hipotez testi (Chi-square test)"
   ]
  },
  {
   "cell_type": "markdown",
   "id": "fc83ff3a-d182-4e62-a1a8-526f84396498",
   "metadata": {},
   "source": [
    "Ki-kare hipotez testi (Chi-square test), kategorik (nitel) verilerle çalışırken kullanılan bir istatistiksel testtir. İki temel amacı vardır:\n",
    "\n",
    "1. Uygunluk (Goodness of Fit) Testi\n",
    "Bir gözlemin, belirli bir teorik dağılıma uyup uymadığını test eder.\n",
    "\n",
    "Örnek:\n",
    "Bir zarın adil olup olmadığını test etmek istiyorsun. Zar 60 kere atılıyor ve her yüzün 10 kez gelmesi bekleniyor. Gerçekteki dağılımla beklenen dağılım arasında fark olup olmadığını test edebilirsin.\n",
    "\n",
    "2. Bağımsızlık (Test of Independence) Testi\n",
    "İki kategorik değişkenin birbirinden bağımsız olup olmadığını test eder.\n",
    "\n",
    "Örnek:\n",
    "Cinsiyet ile alışveriş tercihi arasında bir ilişki var mı? Kadın ve erkeklerin farklı ürünleri tercih edip etmediğini test etmek için kullanılır."
   ]
  },
  {
   "cell_type": "code",
   "execution_count": 19,
   "id": "f07c70a6-24e3-4371-a494-aefd277df2ef",
   "metadata": {},
   "outputs": [],
   "source": [
    "#Kovaryans"
   ]
  },
  {
   "cell_type": "markdown",
   "id": "d7ea417a-9b8a-44f4-9217-84bc4f9aba5f",
   "metadata": {},
   "source": [
    "Kovaryans, iki değişkenin ortalamalarından sapmalarının çarpımının ortalamasını alarak bu değişkenlerin birlikte nasıl ve ne yönde değiştiğini ölçen bir istatistiksel yöntemdir."
   ]
  },
  {
   "cell_type": "code",
   "execution_count": 20,
   "id": "1b18ee6f-d028-49c6-8556-72e5a83c83e1",
   "metadata": {},
   "outputs": [],
   "source": [
    "#ANOVA"
   ]
  },
  {
   "cell_type": "markdown",
   "id": "e33699b7-f089-4379-96f4-1a7f55396453",
   "metadata": {},
   "source": [
    "Varyans analizi (ANOVA: Analysis of Variance), birden fazla grup arasındaki ortalama farklarının anlamlı olup olmadığını test etmek için kullanılan istatistiksel bir yöntemdir."
   ]
  },
  {
   "cell_type": "code",
   "execution_count": 21,
   "id": "fcaef82c-f632-4d42-b8d1-a845f2115fdb",
   "metadata": {},
   "outputs": [],
   "source": [
    "#ANCOVA (Analysis of Covariance)"
   ]
  },
  {
   "cell_type": "markdown",
   "id": "fe9feca3-029f-4081-a137-72a979e2c8bc",
   "metadata": {},
   "source": [
    "ANCOVA (Analysis of Covariance), grup ortalamalarını karşılaştırırken aynı zamanda sonuç değişkenini etkileyebilecek olan bir ya da daha fazla sürekli kontrol (kovaryant) değişkenin etkisini elimine ederek daha doğru ve anlamlı farklar elde etmeye yarayan bir varyans analizidir."
   ]
  },
  {
   "cell_type": "code",
   "execution_count": 22,
   "id": "b64cfb4b-0f7e-4baa-9a2e-9fb950c23659",
   "metadata": {},
   "outputs": [],
   "source": [
    "#MANOVA (Multivariate Analysis of Variance)"
   ]
  },
  {
   "cell_type": "markdown",
   "id": "2d3e206d-4a12-469d-846b-a6430ec01194",
   "metadata": {},
   "source": [
    "MANOVA (Multivariate Analysis of Variance), birden fazla bağımlı değişkenin bir ya da daha fazla bağımsız değişken tarafından aynı anda etkilenip etkilenmediğini test eden ve değişkenler arası ortak yapıları dikkate alan gelişmiş bir varyans analizidir."
   ]
  },
  {
   "cell_type": "code",
   "execution_count": 23,
   "id": "ca029989-094f-423f-8ee0-055fe2e98c62",
   "metadata": {},
   "outputs": [],
   "source": [
    "#MANCOVA (Multivariate Analysis of Covariance)"
   ]
  },
  {
   "cell_type": "markdown",
   "id": "81ab11be-c128-4b62-8262-63758804040b",
   "metadata": {},
   "source": [
    "MANCOVA (Multivariate Analysis of Covariance), MANOVA'nın mantığını sürdürerek birden fazla bağımlı değişkenin grup farklılıklarını analiz ederken aynı zamanda kovaryant değişkenlerin etkisini de kontrol altına alarak daha kapsamlı ve gerçekçi sonuçlar sunan çok değişkenli bir istatistiksel tekniktir."
   ]
  }
 ],
 "metadata": {
  "kernelspec": {
   "display_name": "Python 3 (ipykernel)",
   "language": "python",
   "name": "python3"
  },
  "language_info": {
   "codemirror_mode": {
    "name": "ipython",
    "version": 3
   },
   "file_extension": ".py",
   "mimetype": "text/x-python",
   "name": "python",
   "nbconvert_exporter": "python",
   "pygments_lexer": "ipython3",
   "version": "3.12.6"
  }
 },
 "nbformat": 4,
 "nbformat_minor": 5
}
