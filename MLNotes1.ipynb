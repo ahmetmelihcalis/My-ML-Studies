{
 "cells": [
  {
   "cell_type": "markdown",
   "id": "ca0ea14c-c4f9-46c4-886c-706a4bafd2e6",
   "metadata": {},
   "source": [
    "# ML NOTES"
   ]
  },
  {
   "cell_type": "code",
   "execution_count": 10,
   "id": "d33ef60e-a776-4058-9f36-c80b1a8160a6",
   "metadata": {},
   "outputs": [],
   "source": [
    "#Regresyon"
   ]
  },
  {
   "cell_type": "markdown",
   "id": "a24b70e8-bc21-4f4f-bb67-b3e8bb19bcf7",
   "metadata": {},
   "source": [
    "Regresyon, bir veya daha fazla bağımsız değişken kullanarak bir bağımlı değişkeni tahmin etmeye veya aralarındaki ilişkiyi modellemeye yarayan istatistiksel bir yöntemdir."
   ]
  },
  {
   "cell_type": "code",
   "execution_count": null,
   "id": "3c55630b-ba92-4afe-a643-ea281ee291ce",
   "metadata": {},
   "outputs": [],
   "source": [
    "#Doğrusal (Lineer) Regresyon"
   ]
  },
  {
   "cell_type": "markdown",
   "id": "2010d0db-9e1d-422e-bcb1-c755bb652d98",
   "metadata": {},
   "source": [
    "Doğrusal regresyon, bir bağımlı değişken ile bir veya daha fazla bağımsız değişken arasındaki doğrusal ilişkiyi modelleyen istatistiksel bir yöntemdir."
   ]
  },
  {
   "cell_type": "code",
   "execution_count": 5,
   "id": "52953497-5177-41d4-952e-b5c2e921ad48",
   "metadata": {},
   "outputs": [],
   "source": [
    "#Pozitif ve Negatif Korelasyon"
   ]
  },
  {
   "cell_type": "markdown",
   "id": "258ac5e5-5e25-423c-9e1a-8c552768d608",
   "metadata": {},
   "source": [
    "**Pozitif korelasyon**, iki değişkenin birlikte artması veya birlikte azalması durumudur; biri arttıkça diğeri de artar.\n",
    "**Negatif korelasyon** ise, bir değişken artarken diğerinin azalması durumudur; biri arttıkça diğeri azalır.\n"
   ]
  },
  {
   "cell_type": "code",
   "execution_count": 6,
   "id": "8e3097b6-a208-4768-b95d-c5c9f2d6635e",
   "metadata": {},
   "outputs": [],
   "source": [
    "#Lojistik Regresyon"
   ]
  },
  {
   "cell_type": "markdown",
   "id": "c090a6c5-d37f-4694-8682-36ae94c28514",
   "metadata": {},
   "source": [
    "Lojistik regresyon, bir olayın olasılığını (örneğin evet/hayır, 1/0 gibi) tahmin etmek için kullanılan ve çıktısı sürekli değil, olasılık (0 ile 1 arasında) olan bir sınıflandırma yöntemidir. Başka bir değişle kategorik bir bağımlı değişkeni bir veya daha fazla bağımsız değişkene dayalı olarak modelleyen bir teknik.\t\t"
   ]
  },
  {
   "cell_type": "code",
   "execution_count": 7,
   "id": "e9e86e3d-6c41-49b9-b93e-082b836b3456",
   "metadata": {},
   "outputs": [],
   "source": [
    "#Ordinary Least Squares"
   ]
  },
  {
   "cell_type": "markdown",
   "id": "56705898-43a0-4007-9c34-e0dc6d69aa1e",
   "metadata": {},
   "source": [
    "Ordinary Least Squares (OLS), Türkçesiyle \"En Küçük Kareler Yöntemi\", doğrusal regresyon modellerinde en yaygın kullanılan istatistiksel tahmin yöntemidir.\n",
    "\n",
    "Kısa tanım:\n",
    "OLS, gerçek değerlerle modelin tahmin ettiği değerler arasındaki farkların karelerini en aza indirmeyi amaçlayan bir regresyon yöntemidir.\n",
    "\n",
    "Neden karesi alınır?\n",
    "Pozitif-negatif farkların birbirini götürmesini engellemek için,\n",
    "\n",
    "Büyük hatalara daha fazla ceza vermek için."
   ]
  },
  {
   "cell_type": "code",
   "execution_count": 11,
   "id": "03b9d9f6-d0e4-4342-a724-bfca938f59e3",
   "metadata": {},
   "outputs": [],
   "source": [
    "#Korelasyon Katsayısı"
   ]
  },
  {
   "cell_type": "markdown",
   "id": "bd328500-c426-40f9-ac47-5dbfe236eb2c",
   "metadata": {},
   "source": [
    "Korelasyon katsayısı, iki değişken arasındaki ilişkinin yönünü ve gücünü gösteren, -1 ile +1 arasında değer alan istatistiksel bir ölçüdür."
   ]
  },
  {
   "cell_type": "code",
   "execution_count": 13,
   "id": "2f21abda-1092-41da-881d-9723a35cc570",
   "metadata": {},
   "outputs": [],
   "source": [
    "#Basit doğrusal regresyon varsayımları"
   ]
  },
  {
   "cell_type": "markdown",
   "id": "64e1def6-6f54-4265-84da-08803570e21a",
   "metadata": {},
   "source": [
    "Özetlemek gerekirse, basit doğrusal regresyonun dört varsayımı vardır:\n",
    "\n",
    "Doğrusallık: Her bir öngörücü değişken (Xi) sonuç değişkeniyle (Y) doğrusal olarak ilişkilidir.\n",
    "\n",
    "Normallik: Hatalar normal dağılmıştır.*\n",
    "\n",
    "Bağımsız Gözlemler: Veri kümesindeki her bir gözlem bağımsızdır.\n",
    "\n",
    "Homoscedasticity: Hataların varyansı model genelinde sabit veya benzerdir.*"
   ]
  },
  {
   "cell_type": "code",
   "execution_count": null,
   "id": "8e4fff6d-e7ea-4ae6-9861-a11dcaf20251",
   "metadata": {},
   "outputs": [],
   "source": []
  }
 ],
 "metadata": {
  "kernelspec": {
   "display_name": "Python 3 (ipykernel)",
   "language": "python",
   "name": "python3"
  },
  "language_info": {
   "codemirror_mode": {
    "name": "ipython",
    "version": 3
   },
   "file_extension": ".py",
   "mimetype": "text/x-python",
   "name": "python",
   "nbconvert_exporter": "python",
   "pygments_lexer": "ipython3",
   "version": "3.12.6"
  }
 },
 "nbformat": 4,
 "nbformat_minor": 5
}
