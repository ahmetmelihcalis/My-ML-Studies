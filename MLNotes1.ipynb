{
 "cells": [
  {
   "cell_type": "markdown",
   "id": "ca0ea14c-c4f9-46c4-886c-706a4bafd2e6",
   "metadata": {},
   "source": [
    "# ML NOTES"
   ]
  },
  {
   "cell_type": "code",
   "execution_count": null,
   "id": "3c55630b-ba92-4afe-a643-ea281ee291ce",
   "metadata": {},
   "outputs": [],
   "source": [
    "#Doğrusal (Lineer) Regresyon"
   ]
  },
  {
   "cell_type": "markdown",
   "id": "2010d0db-9e1d-422e-bcb1-c755bb652d98",
   "metadata": {},
   "source": [
    "Doğrusal regresyon, bir bağımlı değişken ile bir veya daha fazla bağımsız değişken arasındaki doğrusal ilişkiyi modelleyen istatistiksel bir yöntemdir."
   ]
  },
  {
   "cell_type": "code",
   "execution_count": 5,
   "id": "52953497-5177-41d4-952e-b5c2e921ad48",
   "metadata": {},
   "outputs": [],
   "source": [
    "#Pozitif ve Negatif Korelasyon"
   ]
  },
  {
   "cell_type": "markdown",
   "id": "258ac5e5-5e25-423c-9e1a-8c552768d608",
   "metadata": {},
   "source": [
    "**Pozitif korelasyon**, iki değişkenin birlikte artması veya birlikte azalması durumudur; biri arttıkça diğeri de artar.\n",
    "**Negatif korelasyon** ise, bir değişken artarken diğerinin azalması durumudur; biri arttıkça diğeri azalır.\n"
   ]
  },
  {
   "cell_type": "code",
   "execution_count": 6,
   "id": "8e3097b6-a208-4768-b95d-c5c9f2d6635e",
   "metadata": {},
   "outputs": [],
   "source": [
    "#Lojistik Regresyon"
   ]
  },
  {
   "cell_type": "markdown",
   "id": "c090a6c5-d37f-4694-8682-36ae94c28514",
   "metadata": {},
   "source": [
    "Lojistik regresyon, bir olayın olasılığını (örneğin evet/hayır, 1/0 gibi) tahmin etmek için kullanılan ve çıktısı sürekli değil, olasılık (0 ile 1 arasında) olan bir sınıflandırma yöntemidir. Başka bir değişle kategorik bir bağımlı değişkeni bir veya daha fazla bağımsız değişkene dayalı olarak modelleyen bir teknik.\t\t"
   ]
  },
  {
   "cell_type": "code",
   "execution_count": null,
   "id": "e9e86e3d-6c41-49b9-b93e-082b836b3456",
   "metadata": {},
   "outputs": [],
   "source": []
  }
 ],
 "metadata": {
  "kernelspec": {
   "display_name": "Python 3 (ipykernel)",
   "language": "python",
   "name": "python3"
  },
  "language_info": {
   "codemirror_mode": {
    "name": "ipython",
    "version": 3
   },
   "file_extension": ".py",
   "mimetype": "text/x-python",
   "name": "python",
   "nbconvert_exporter": "python",
   "pygments_lexer": "ipython3",
   "version": "3.12.6"
  }
 },
 "nbformat": 4,
 "nbformat_minor": 5
}
