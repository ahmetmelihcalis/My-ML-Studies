{
 "cells": [
  {
   "cell_type": "markdown",
   "id": "1ba1f5f3",
   "metadata": {},
   "source": [
    "# Takıldığım Bilgler"
   ]
  },
  {
   "cell_type": "markdown",
   "id": "395f219a",
   "metadata": {},
   "source": [
    "1. Pandas Series, tek boyutlu etiketli bir veri yapısıyken; DataFrame, birden fazla Series'ten oluşan Excelvari iki boyutlu tablolama yapısıdır."
   ]
  },
  {
   "cell_type": "markdown",
   "id": "aed49dcf",
   "metadata": {},
   "source": [
    "2. loc, pandas'ta bir DataFrame veya Series içinden etiket (label) bazlı veri seçmek için kullanılan bir özelliktir."
   ]
  },
  {
   "cell_type": "markdown",
   "id": "5423f6ec",
   "metadata": {},
   "source": [
    "3. iloc, pandas'ta bir DataFrame veya Series içinden sıra numarasına (integer index) göre veri seçmek için kullanılır."
   ]
  },
  {
   "cell_type": "markdown",
   "id": "ff092d0c",
   "metadata": {},
   "source": [
    "| Özellik | `loc` (label-based) | `iloc` (integer-based)    |\n",
    "| ------- | ------------------- | ------------------------- |\n",
    "| Erişim  | Etiket (ad) ile     | Sıra numarası (index) ile |\n",
    "| Yazım   | `df.loc[1, 'Ad']`   | `df.iloc[1, 0]`           |\n"
   ]
  },
  {
   "cell_type": "markdown",
   "id": "c33bab4f",
   "metadata": {},
   "source": [
    "4. axis=1 kolonlar\n",
    "   axis=0 rowlar"
   ]
  },
  {
   "cell_type": "markdown",
   "id": "ce436c0c",
   "metadata": {},
   "source": [
    "| `axis`   | Ne demek?                     | Ne üzerinde işlem yapılır?      |\n",
    "| -------- | ----------------------------- | ------------------------------- |\n",
    "| `axis=0` | Aşağıya doğru işlem (dikey)   | Satırlar üzerinde işlem yapılır |\n",
    "| `axis=1` | Sola-sağa doğru işlem (yatay) | Sütunlar üzerinde işlem yapılır |\n"
   ]
  },
  {
   "cell_type": "markdown",
   "id": "636da405",
   "metadata": {},
   "source": [
    "5.fillna = eksik değer doldurma için\n"
   ]
  },
  {
   "cell_type": "markdown",
   "id": "1c5c01a3",
   "metadata": {},
   "source": [
    "6.groupby() fonksiyonu, Pandas’ta verileri belli bir sütuna göre gruplamak ve her grup için özet hesaplamalar (ortalama, toplam, sayma, vb.) yapmak için kullanılır."
   ]
  },
  {
   "cell_type": "markdown",
   "id": "80cfd455",
   "metadata": {},
   "source": [
    "7.Pandas'ta concat, iki veya daha fazla DataFrame ya da Series'i birleştirmek (concatenate etmek) için kullanılır."
   ]
  }
 ],
 "metadata": {
  "language_info": {
   "name": "python"
  }
 },
 "nbformat": 4,
 "nbformat_minor": 5
}
