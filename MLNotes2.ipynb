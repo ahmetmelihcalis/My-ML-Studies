{
 "cells": [
  {
   "cell_type": "markdown",
   "id": "1ba6ac61-f63c-443c-9794-014c6f6f9cab",
   "metadata": {},
   "source": [
    "# Machine Learning"
   ]
  },
  {
   "cell_type": "markdown",
   "id": "798fbba4-e171-4e7b-9dd4-1af550d3c53f",
   "metadata": {},
   "source": [
    "Makine öğrenmesi, bilgisayarların geçmiş verilerden örüntüler ve ilişkiler keşfederek gelecekteki veriler üzerinde tahmin veya kararlar almasını sağlayan bir algoritmalar bütünüdür."
   ]
  },
  {
   "cell_type": "markdown",
   "id": "e138ac51-ec35-44cd-b765-8da076384d70",
   "metadata": {},
   "source": [
    "# Types of ML"
   ]
  },
  {
   "cell_type": "code",
   "execution_count": 1,
   "id": "e6eefe12-285c-4ac3-b92b-b482805c8a80",
   "metadata": {},
   "outputs": [],
   "source": [
    "#Supervised Learning"
   ]
  },
  {
   "cell_type": "markdown",
   "id": "3e13b4ec-d1f6-4fd7-b716-472756518e40",
   "metadata": {},
   "source": [
    "Gözetimli öğrenme, bir algoritmanın etiketlenmiş bir veri setinden (yani, hem girdi hem de doğru çıktıyı içeren verilerden) öğrenerek yeni ve görünmeyen veriler hakkında tahminler yapmayı öğrendiği bir makine öğrenmesi türüdür."
   ]
  },
  {
   "cell_type": "code",
   "execution_count": 2,
   "id": "24bb5217-dd51-4da7-bc3d-e89a73446b0d",
   "metadata": {},
   "outputs": [],
   "source": [
    "# Algorithms"
   ]
  },
  {
   "cell_type": "markdown",
   "id": "04f6874e-c31f-4329-9603-5cbdfd8217c0",
   "metadata": {},
   "source": [
    "Regresyon: Sürekli değer tahmini (örnek: lineer regresyon).\n",
    "\n",
    "Sınıflandırma: Kategorik çıktı tahmini (örnek: lojistik regresyon, karar ağaçları, destek vektör makineleri (SVM), sinir ağları)."
   ]
  },
  {
   "cell_type": "code",
   "execution_count": 3,
   "id": "d1a62c5b-762f-4b22-8b52-1c921d5322bb",
   "metadata": {},
   "outputs": [],
   "source": [
    "#Unsupervised Learning"
   ]
  },
  {
   "cell_type": "markdown",
   "id": "33b483a7-f568-438c-aefc-1ea7fbe02fef",
   "metadata": {},
   "source": [
    "Gözetimsiz öğrenme, bir algoritmanın etiketlenmemiş veriler içindeki gizli kalıpları ve yapıları insan yönlendirmesi olmadan kendi başına keşfettiği bir makine öğrenmesi yöntemidir."
   ]
  },
  {
   "cell_type": "markdown",
   "id": "a4905cf1-e5db-40ed-bc7e-e29778f02264",
   "metadata": {},
   "source": [
    "# Other Terms"
   ]
  },
  {
   "cell_type": "code",
   "execution_count": 4,
   "id": "e7584dfc-3fcb-454c-80d5-9c90a783283c",
   "metadata": {},
   "outputs": [],
   "source": [
    "#Feature Engineering"
   ]
  },
  {
   "cell_type": "markdown",
   "id": "da6a18d2-9758-49b8-b7d1-9eb19533df05",
   "metadata": {},
   "source": [
    "Özellik mühendisliği, ham veriyi alan bilgisi kullanarak makine öğrenmesi modellerinin performansını artıracak daha anlamlı ve kullanışlı özelliklere dönüştürme sürecidir."
   ]
  },
  {
   "cell_type": "code",
   "execution_count": 5,
   "id": "277d3cc2-bcb0-41b2-90e2-fd70027c10a8",
   "metadata": {},
   "outputs": [],
   "source": [
    "#Missing Values"
   ]
  },
  {
   "cell_type": "markdown",
   "id": "fea9ee34-747f-4e34-9d61-72affa47abdc",
   "metadata": {},
   "source": [
    "Eksik değerler (missing values), bir veri setindeki belirli bir gözlem için herhangi bir bilginin bulunmadığı, kaydedilmediği veya bilinmediği durumlardır."
   ]
  },
  {
   "cell_type": "code",
   "execution_count": 6,
   "id": "7c58b3d1-0372-4020-a2c4-143eeca84476",
   "metadata": {},
   "outputs": [],
   "source": [
    "#Outliers"
   ]
  },
  {
   "cell_type": "markdown",
   "id": "80115ef8-3644-42df-b54c-20800480f698",
   "metadata": {},
   "source": [
    "Aykırı değerler, bir veri setindeki diğer gözlemlerden önemli ölçüde farklı olan veri noktalarıdır. Genel veri kalıbının dışına çıkan, \"normal\" dağılımdan çok uzak olan değerlerdir."
   ]
  },
  {
   "cell_type": "code",
   "execution_count": 7,
   "id": "dbc60946-e483-48a9-8647-f65e80da613b",
   "metadata": {},
   "outputs": [],
   "source": [
    "#Naive Bayes"
   ]
  },
  {
   "cell_type": "markdown",
   "id": "9b16efb4-0fa4-49fd-939e-10270516d42e",
   "metadata": {},
   "source": [
    "Naive Bayes, istatistiksel bir sınıflandırma algoritmasıdır ve özellikle metin sınıflandırması gibi problemlerde sıkça kullanılır. Bayes teoremine dayanır ve \"naive\" (saf) olarak adlandırılmasının sebebi, her özelliğin (feature) birbirinden bağımsız olduğunu varsaymasıdır — ki bu gerçek dünyada çoğu zaman tam olarak doğru olmasa da, yine de iyi sonuçlar verebilir."
   ]
  },
  {
   "cell_type": "code",
   "execution_count": 8,
   "id": "d2b734af-7f8f-4da0-922e-616e9a2a1637",
   "metadata": {},
   "outputs": [],
   "source": [
    "# Bayes Teoremini Basitçe Anlamak"
   ]
  },
  {
   "cell_type": "markdown",
   "id": "c64651e5-8996-4af0-923a-8a448fcbb666",
   "metadata": {},
   "source": [
    "Bayes Teoremi: Tahmin edici değişkenlerin değerleri göz önüne alındığında, bir sonucun veya sınıfın olasılığını hesaplamak için kullanılabilecek bir denklem\t"
   ]
  },
  {
   "cell_type": "code",
   "execution_count": 9,
   "id": "94a41448-6806-465c-8cad-a4e983a97bab",
   "metadata": {},
   "outputs": [],
   "source": [
    "# \"Bir şeyin olma olasılığını, önceden ne kadar yaygın olduğuna ve şu anda ne gördüğüne göre yeniden hesaplayabilirsin.\" (Pizzacı örneği). Ayrıca, yeni bilgi geldikçe eski tahminlerini güncelliyorsun."
   ]
  },
  {
   "cell_type": "code",
   "execution_count": 10,
   "id": "d4df82ca-da0e-4777-b999-381b5b70b31e",
   "metadata": {},
   "outputs": [],
   "source": [
    "#F1 Skor"
   ]
  },
  {
   "cell_type": "markdown",
   "id": "09ec45b2-383e-4408-a7ff-06af83e8ae79",
   "metadata": {},
   "source": [
    "F1-Skor: Kesinlik ve geri çağırmanın harmonik ortalaması\t\t\t"
   ]
  },
  {
   "cell_type": "code",
   "execution_count": 11,
   "id": "5978f9fd-0983-477c-939b-9ae9bfaa67a7",
   "metadata": {},
   "outputs": [],
   "source": [
    "#K-Means"
   ]
  },
  {
   "cell_type": "markdown",
   "id": "16d60665-340f-467b-87b6-85db074aaf88",
   "metadata": {},
   "source": [
    "K-Means, verileri benzer özelliklerine göre K tane gruba (küme) ayıran bir algoritmadır.\n",
    "\n",
    "Her kümenin bir merkezi (centroid) vardır. Algoritma, her veriyi en yakın merkez noktaya atar. Sonra merkezler tekrar hesaplanır. Bu işlem veriler oturana kadar (merkezler değişmeyene kadar) devam eder."
   ]
  },
  {
   "cell_type": "code",
   "execution_count": 12,
   "id": "6befd766-238c-4715-b62e-b10ef0d0d0bc",
   "metadata": {},
   "outputs": [],
   "source": [
    "# K-Means Gerçek Hayatta Nerede Kullanılır?"
   ]
  },
  {
   "cell_type": "markdown",
   "id": "492b25db-a2e5-4abe-89e9-50cac96fda69",
   "metadata": {},
   "source": [
    "Renk sıkıştırma (aynı renge benzeyenleri grupla)\n",
    "\n",
    "Müşteri segmentasyonu (alışveriş davranışlarına göre gruplandır)\n",
    "\n",
    "Görsel veya metin benzerliği\n",
    "\n",
    "Lokasyon tabanlı gruplama (haritalarda)"
   ]
  },
  {
   "cell_type": "code",
   "execution_count": 13,
   "id": "4cd42eb0-313d-414e-889b-d15f2ad63316",
   "metadata": {},
   "outputs": [],
   "source": [
    "#Clustering Algorithms"
   ]
  },
  {
   "cell_type": "code",
   "execution_count": 14,
   "id": "15e7c3b1-9860-4298-898c-1e6091ba62ff",
   "metadata": {},
   "outputs": [],
   "source": [
    "#Atalet (Inertia) — K-Means’in ne kadar iyi çalıştığını gösteren skor"
   ]
  },
  {
   "cell_type": "markdown",
   "id": "551f05d0-b5df-4685-8dee-182cff5083a3",
   "metadata": {},
   "source": [
    "Tanım:\n",
    "Atalet, her veri noktasının kendi küme merkezine olan kareli uzaklıklarının toplamıdır."
   ]
  },
  {
   "cell_type": "markdown",
   "id": "9a4b18f5-2ac8-4c70-8ef3-afe13c81ba26",
   "metadata": {},
   "source": [
    "Amaç:\n",
    "K-Means algoritmasında amaç bu değeri olabildiğince küçük tutmaktır.\n",
    "Küme içindeki noktalar merkezlerine yakın olursa: iyi kümelenme!"
   ]
  },
  {
   "cell_type": "code",
   "execution_count": 15,
   "id": "b35b6353-69ba-4a40-b3c0-6d915228f154",
   "metadata": {},
   "outputs": [],
   "source": [
    "#Siluet Katsayısı (Silhouette Score) — Ne kadar iyi kümelendiğini gösteren skor"
   ]
  },
  {
   "cell_type": "markdown",
   "id": "47dd4245-bee9-47e1-9e37-f6ae25b81ce1",
   "metadata": {},
   "source": [
    "Tanım:\n",
    "Siluet katsayısı, her veri noktasının kendi kümesine ne kadar iyi ait olduğunu ve diğer kümelerden ne kadar iyi ayrıldığını ölçen bir skordur."
   ]
  },
  {
   "cell_type": "markdown",
   "id": "b6dd9780-d24b-426b-b1c3-a810981ed468",
   "metadata": {},
   "source": [
    "Amaç:\n",
    "Siluet katsayısının amacı, kümelerin içinde tutarlı (yoğun) ve birbirinden ayrık (uzak) olup olmadığını değerlendirmek ve böylece doğru sayıda küme (k) seçilmesine yardımcı olmaktır."
   ]
  },
  {
   "cell_type": "code",
   "execution_count": 16,
   "id": "0b1e9293-3899-4d38-85c0-0913affff073",
   "metadata": {},
   "outputs": [],
   "source": [
    "#Centroid"
   ]
  },
  {
   "cell_type": "markdown",
   "id": "e3d98933-e145-46d6-ae16-542f82b8ec94",
   "metadata": {},
   "source": [
    "Centroid, bir küme içindeki tüm noktaların aritmetik ortalamasıyla belirlenen merkez noktadır."
   ]
  },
  {
   "cell_type": "code",
   "execution_count": 17,
   "id": "7a64f22f-22b1-483b-8623-37e3dff595c8",
   "metadata": {},
   "outputs": [],
   "source": [
    "#Decision Tree"
   ]
  },
  {
   "cell_type": "markdown",
   "id": "472feaf7-80a2-41d9-9d0a-60091cad7b74",
   "metadata": {},
   "source": [
    "Decision Tree, veriyi özelliklerine göre dallandırarak kararlar veren ve sınıflandırma veya tahmin yapan bir makine öğrenmesi modelidir."
   ]
  },
  {
   "cell_type": "code",
   "execution_count": 18,
   "id": "ae554347-781d-42cc-b6da-fbad0b127039",
   "metadata": {},
   "outputs": [],
   "source": [
    "#RandomForest"
   ]
  },
  {
   "cell_type": "markdown",
   "id": "c54e8c45-d6a0-4856-9270-3cbb407b04da",
   "metadata": {},
   "source": [
    "Random Forest, birden fazla karar ağacını bir araya getirerek tahmin doğruluğunu artıran ve aşırı öğrenmeyi önleyen topluluk tabanlı bir makine öğrenimi algoritmasıdır."
   ]
  },
  {
   "cell_type": "code",
   "execution_count": 19,
   "id": "973af972-5565-4c30-b21a-81034e154e38",
   "metadata": {},
   "outputs": [],
   "source": [
    "#Cross-validation"
   ]
  },
  {
   "cell_type": "markdown",
   "id": "a57c6a8f-c9a9-4a2f-b3e8-9b201e166a97",
   "metadata": {},
   "source": [
    "Cross-validation, veriyi eğitim ve test alt kümelerine bölerek modelin farklı veri setlerinde ne kadar iyi genelleme yaptığını ölçen bir doğrulama tekniğidir."
   ]
  },
  {
   "cell_type": "code",
   "execution_count": 20,
   "id": "c42e6180-04f6-4725-8d5a-43db8bc2a547",
   "metadata": {},
   "outputs": [],
   "source": [
    "#Bootstrapping"
   ]
  },
  {
   "cell_type": "markdown",
   "id": "37f570aa-7e3f-4f47-a026-688c16681108",
   "metadata": {},
   "source": [
    "Bootstrapping, veri setinden tekrar tekrar örnekler alarak (geri koymalı) istatistiksel tahminler yapmaya yarayan yeniden örnekleme yöntemidir."
   ]
  },
  {
   "cell_type": "code",
   "execution_count": 21,
   "id": "a8afc95c-6787-4401-8ccb-7c119d3adc2a",
   "metadata": {},
   "outputs": [],
   "source": [
    "#GBM"
   ]
  },
  {
   "cell_type": "markdown",
   "id": "a755305b-df42-4be6-97d0-664d92157ae6",
   "metadata": {},
   "source": [
    "GBM (Gradient Boosting Machine), zayıf tahmin modellerini ardışık olarak eğitip hataları düzelterek güçlü bir tahmin modeli oluşturan bir topluluk öğrenme yöntemidir."
   ]
  },
  {
   "cell_type": "code",
   "execution_count": 22,
   "id": "7325baf7-87a8-4712-9350-417bc112d4f2",
   "metadata": {},
   "outputs": [],
   "source": [
    "#XGBoost"
   ]
  },
  {
   "cell_type": "markdown",
   "id": "33fcaf1c-85e0-4df7-ab10-1ef34326b0b9",
   "metadata": {},
   "source": [
    "XGBoost, hız ve performans için optimize edilmiş, gradyan artırma tabanlı güçlü ve ölçeklenebilir bir makine öğrenimi algoritmasıdır."
   ]
  },
  {
   "cell_type": "code",
   "execution_count": 23,
   "id": "7aad4ee6-b538-425f-8325-e2f3176562c0",
   "metadata": {},
   "outputs": [],
   "source": [
    "#Ekstrapolasyon"
   ]
  },
  {
   "cell_type": "markdown",
   "id": "52b7bcf3-7f70-4676-b6d4-cf51e7245420",
   "metadata": {},
   "source": [
    "Ekstrapolasyon, mevcut veri veya gözlemlerden yola çıkarak bilinmeyen bir aralıktaki değerleri tahmin etme yöntemidir."
   ]
  }
 ],
 "metadata": {
  "kernelspec": {
   "display_name": "Python 3 (ipykernel)",
   "language": "python",
   "name": "python3"
  },
  "language_info": {
   "codemirror_mode": {
    "name": "ipython",
    "version": 3
   },
   "file_extension": ".py",
   "mimetype": "text/x-python",
   "name": "python",
   "nbconvert_exporter": "python",
   "pygments_lexer": "ipython3",
   "version": "3.12.6"
  }
 },
 "nbformat": 4,
 "nbformat_minor": 5
}
