{
 "cells": [
  {
   "cell_type": "markdown",
   "id": "1ba6ac61-f63c-443c-9794-014c6f6f9cab",
   "metadata": {},
   "source": [
    "# Machine Learning"
   ]
  },
  {
   "cell_type": "markdown",
   "id": "798fbba4-e171-4e7b-9dd4-1af550d3c53f",
   "metadata": {},
   "source": [
    "Makine öğrenmesi, bilgisayarların geçmiş verilerden örüntüler ve ilişkiler keşfederek gelecekteki veriler üzerinde tahmin veya kararlar almasını sağlayan bir algoritmalar bütünüdür."
   ]
  },
  {
   "cell_type": "markdown",
   "id": "e138ac51-ec35-44cd-b765-8da076384d70",
   "metadata": {},
   "source": [
    "# Types of ML"
   ]
  },
  {
   "cell_type": "code",
   "execution_count": 1,
   "id": "e6eefe12-285c-4ac3-b92b-b482805c8a80",
   "metadata": {},
   "outputs": [],
   "source": [
    "#Supervised Learning"
   ]
  },
  {
   "cell_type": "markdown",
   "id": "3e13b4ec-d1f6-4fd7-b716-472756518e40",
   "metadata": {},
   "source": [
    "Gözetimli öğrenme, bir algoritmanın etiketlenmiş bir veri setinden (yani, hem girdi hem de doğru çıktıyı içeren verilerden) öğrenerek yeni ve görünmeyen veriler hakkında tahminler yapmayı öğrendiği bir makine öğrenmesi türüdür."
   ]
  },
  {
   "cell_type": "code",
   "execution_count": 2,
   "id": "24bb5217-dd51-4da7-bc3d-e89a73446b0d",
   "metadata": {},
   "outputs": [],
   "source": [
    "# Algorithms"
   ]
  },
  {
   "cell_type": "markdown",
   "id": "04f6874e-c31f-4329-9603-5cbdfd8217c0",
   "metadata": {},
   "source": [
    "Regresyon: Sürekli değer tahmini (örnek: lineer regresyon).\n",
    "\n",
    "Sınıflandırma: Kategorik çıktı tahmini (örnek: lojistik regresyon, karar ağaçları, destek vektör makineleri (SVM), sinir ağları)."
   ]
  },
  {
   "cell_type": "code",
   "execution_count": 3,
   "id": "d1a62c5b-762f-4b22-8b52-1c921d5322bb",
   "metadata": {},
   "outputs": [],
   "source": [
    "#Unsupervised Learning"
   ]
  },
  {
   "cell_type": "markdown",
   "id": "33b483a7-f568-438c-aefc-1ea7fbe02fef",
   "metadata": {},
   "source": [
    "Gözetimsiz öğrenme, bir algoritmanın etiketlenmemiş veriler içindeki gizli kalıpları ve yapıları insan yönlendirmesi olmadan kendi başına keşfettiği bir makine öğrenmesi yöntemidir."
   ]
  },
  {
   "cell_type": "code",
   "execution_count": 4,
   "id": "e7584dfc-3fcb-454c-80d5-9c90a783283c",
   "metadata": {},
   "outputs": [],
   "source": [
    "#Feature Engineering"
   ]
  },
  {
   "cell_type": "markdown",
   "id": "da6a18d2-9758-49b8-b7d1-9eb19533df05",
   "metadata": {},
   "source": [
    "Özellik mühendisliği, ham veriyi alan bilgisi kullanarak makine öğrenmesi modellerinin performansını artıracak daha anlamlı ve kullanışlı özelliklere dönüştürme sürecidir."
   ]
  }
 ],
 "metadata": {
  "kernelspec": {
   "display_name": "Python 3 (ipykernel)",
   "language": "python",
   "name": "python3"
  },
  "language_info": {
   "codemirror_mode": {
    "name": "ipython",
    "version": 3
   },
   "file_extension": ".py",
   "mimetype": "text/x-python",
   "name": "python",
   "nbconvert_exporter": "python",
   "pygments_lexer": "ipython3",
   "version": "3.12.6"
  }
 },
 "nbformat": 4,
 "nbformat_minor": 5
}
